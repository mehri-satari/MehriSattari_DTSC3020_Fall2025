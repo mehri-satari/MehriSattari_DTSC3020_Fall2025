{
  "nbformat": 4,
  "nbformat_minor": 0,
  "metadata": {
    "colab": {
      "provenance": [],
      "authorship_tag": "ABX9TyNQRAwyfRyaWH7eTqQ9B/U0",
      "include_colab_link": true
    },
    "kernelspec": {
      "name": "python3",
      "display_name": "Python 3"
    },
    "language_info": {
      "name": "python"
    }
  },
  "cells": [
    {
      "cell_type": "markdown",
      "metadata": {
        "id": "view-in-github",
        "colab_type": "text"
      },
      "source": [
        "<a href=\"https://colab.research.google.com/github/mehri-satari/MehriSattari_DTSC3020_Fall2025/blob/main/in_class_demo_week4.ipynb\" target=\"_parent\"><img src=\"https://colab.research.google.com/assets/colab-badge.svg\" alt=\"Open In Colab\"/></a>"
      ]
    },
    {
      "cell_type": "markdown",
      "source": [
        "A list is a collection of items.\n",
        "we can read them, change them, add new ones, and remove items."
      ],
      "metadata": {
        "id": "13mgTYO8odJu"
      }
    },
    {
      "cell_type": "code",
      "source": [
        "colors = [\"red\" , \"green\" , \"blue\"]\n",
        "print(colors)"
      ],
      "metadata": {
        "id": "v29JBDllou83"
      },
      "execution_count": null,
      "outputs": []
    },
    {
      "cell_type": "code",
      "source": [
        "colors.append(\"yellow\")\n",
        "print(colors)"
      ],
      "metadata": {
        "id": "gY55_F3YpV6Y"
      },
      "execution_count": null,
      "outputs": []
    },
    {
      "cell_type": "code",
      "source": [
        "colors.remove(\"green\")\n",
        "print(colors)"
      ],
      "metadata": {
        "id": "w62yIVrdpvKm"
      },
      "execution_count": null,
      "outputs": []
    },
    {
      "cell_type": "code",
      "source": [
        "#we can acess items in a list using indexing.\n",
        "#indexing means using the position number of an item in a list to access it."
      ],
      "metadata": {
        "id": "7CZN5EuCp5BG"
      },
      "execution_count": null,
      "outputs": []
    },
    {
      "cell_type": "code",
      "source": [
        "print(colors[0])"
      ],
      "metadata": {
        "id": "hfVe5Vk3HT8w"
      },
      "execution_count": null,
      "outputs": []
    },
    {
      "cell_type": "code",
      "source": [
        "print(colors[1])"
      ],
      "metadata": {
        "id": "A38H0NtnHh0q"
      },
      "execution_count": null,
      "outputs": []
    },
    {
      "cell_type": "markdown",
      "source": [
        "Now let’s try a small challenge together. Create a list of your 3 favorite foods. Print the first food and the last food. Then change the second food to something else, add a new food at the end, and finally remove one food from your list"
      ],
      "metadata": {
        "id": "0aelFYuoH9Uy"
      }
    },
    {
      "cell_type": "code",
      "source": [
        "foods = [\"pizza\" , \"pasta\" , \"burger\"]\n",
        "print(foods[0])\n",
        "print(foods[2])"
      ],
      "metadata": {
        "id": "iIYgjoncID4A"
      },
      "execution_count": null,
      "outputs": []
    },
    {
      "cell_type": "code",
      "source": [
        "foods[1]= \"salad\"\n",
        "print(foods)"
      ],
      "metadata": {
        "id": "uPnlZUxPIbpG"
      },
      "execution_count": null,
      "outputs": []
    },
    {
      "cell_type": "code",
      "source": [
        "foods.append(\"sushi\")\n",
        "print(foods)"
      ],
      "metadata": {
        "id": "JOS5DOHBI82-"
      },
      "execution_count": null,
      "outputs": []
    },
    {
      "cell_type": "code",
      "source": [
        "foods.remove(\"burger\")\n",
        "print(foods)"
      ],
      "metadata": {
        "id": "7RiMNBHIJJAL"
      },
      "execution_count": null,
      "outputs": []
    },
    {
      "cell_type": "code",
      "source": [
        "# The range() function generates a series of numbers. Here it prints 1 through 5.\n",
        "#The range() function generates a sequence of numbers. It takes up to three arguments: start, stop, and step.”\n",
        "\n",
        " #range(stop) → starts at 0, ends before stop.\n",
        " #range(start, stop) → starts at start, ends before stop.\n",
        " #range(start, stop, step) → adds step size.\n"
      ],
      "metadata": {
        "id": "TUpAoXlsNbdG"
      },
      "execution_count": null,
      "outputs": []
    },
    {
      "cell_type": "code",
      "source": [
        "for number in range(5):\n",
        "    print(number)"
      ],
      "metadata": {
        "id": "khO5U9QnNct9"
      },
      "execution_count": null,
      "outputs": []
    },
    {
      "cell_type": "code",
      "source": [
        "for number in range(2, 11, 2):\n",
        "    print(number)"
      ],
      "metadata": {
        "id": "4ntWufD-NdFf"
      },
      "execution_count": null,
      "outputs": []
    },
    {
      "cell_type": "code",
      "source": [
        "#We can also turn the range into a list. The third number is the step. So this gives us odd numbers from 1 to 9."
      ],
      "metadata": {
        "id": "KrI8sWKPNdWa"
      },
      "execution_count": null,
      "outputs": []
    },
    {
      "cell_type": "code",
      "source": [
        "numbers = list(range(1, 10, 2))\n",
        "print(numbers)"
      ],
      "metadata": {
        "id": "LtCJJwSFNddx"
      },
      "execution_count": null,
      "outputs": []
    },
    {
      "cell_type": "markdown",
      "source": [
        "min(), max(), sum()\n"
      ],
      "metadata": {
        "id": "iv8L6BhBYd5B"
      }
    },
    {
      "cell_type": "code",
      "source": [
        "#Python makes it easy to find the smallest, the largest, and the total of a list of numbers."
      ],
      "metadata": {
        "id": "ibqNk2d_NdvY"
      },
      "execution_count": null,
      "outputs": []
    },
    {
      "cell_type": "code",
      "source": [
        "digits = [1, 2, 3, 4, 5, 6, 7, 8, 9, 0]\n",
        "print(min(digits))\n",
        "print(max(digits))\n",
        "print(sum(digits))"
      ],
      "metadata": {
        "id": "Bixyrok2Nd32"
      },
      "execution_count": null,
      "outputs": []
    },
    {
      "cell_type": "markdown",
      "source": [
        "List Slicing\n",
        "Slicing means taking a part of a list. The first number is the start index, and the second is the end index (not included)."
      ],
      "metadata": {
        "id": "cT_aJAvTY5rn"
      }
    },
    {
      "cell_type": "code",
      "source": [
        "\n",
        "players = [\"charles\", \"martina\", \"michael\", \"florence\", \"eli\"]\n",
        "print(players[0:3])   # first three\n",
        "print(players[:4])    # start to index 3\n",
        "print(players[2:])    # from index 2 to the end"
      ],
      "metadata": {
        "id": "4VyV6peiY6Fb"
      },
      "execution_count": null,
      "outputs": []
    },
    {
      "cell_type": "markdown",
      "source": [
        "Copying a List\n",
        "\n",
        "[:], This is a slice. It means we are taking all the items in the list.\n",
        "\n",
        "If we use [:], we copy the list.\n",
        "\n",
        "This way each list can be changed independently."
      ],
      "metadata": {
        "id": "BS4Gy_QoZvtW"
      }
    },
    {
      "cell_type": "code",
      "source": [
        "my_foods = [\"pizza\", \"falafel\", \"carrot cake\"]\n",
        "friend_foods = my_foods[:]   # copy\n",
        "my_foods.append(\"ice cream\")\n",
        "friend_foods.append(\"cannoli\")\n",
        "\n",
        "print(my_foods)\n",
        "print(friend_foods)"
      ],
      "metadata": {
        "id": "a3YLfDocZ1BN"
      },
      "execution_count": null,
      "outputs": []
    },
    {
      "cell_type": "markdown",
      "source": [
        "This is called a list comprehension. It’s a very short way to create a list. Here we created the squares of numbers from 1 to 10.”"
      ],
      "metadata": {
        "id": "ifd4C0v7aUYY"
      }
    },
    {
      "cell_type": "code",
      "source": [
        "squares = [value**2 for value in range(1, 11)]\n",
        "print(squares)"
      ],
      "metadata": {
        "id": "p-WFjcIvaSF1"
      },
      "execution_count": null,
      "outputs": []
    }
  ]
}